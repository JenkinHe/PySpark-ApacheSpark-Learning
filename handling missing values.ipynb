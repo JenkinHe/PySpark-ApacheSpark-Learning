{
 "cells": [
  {
   "cell_type": "code",
   "execution_count": 2,
   "id": "e51eefce",
   "metadata": {},
   "outputs": [],
   "source": [
    "from pyspark.sql import SparkSession\n",
    "spark =SparkSession.builder.appName('Practise').getOrCreate()"
   ]
  },
  {
   "cell_type": "code",
   "execution_count": 31,
   "id": "3867144e",
   "metadata": {},
   "outputs": [],
   "source": [
    "df_pyspark=spark.read.csv('test1.csv',header=True,inferSchema=True)"
   ]
  },
  {
   "cell_type": "code",
   "execution_count": 32,
   "id": "431526e1",
   "metadata": {},
   "outputs": [
    {
     "name": "stdout",
     "output_type": "stream",
     "text": [
      "+-----+----+----------+------+\n",
      "| Name| Age|Experience|Salary|\n",
      "+-----+----+----------+------+\n",
      "|Frank|  23|         1|   900|\n",
      "| Kyle|   1|         3|   400|\n",
      "| Jeff|  22|         4|   200|\n",
      "| Fred|  43|         3|   600|\n",
      "|Karry|  11|         1|   100|\n",
      "|  Min|  23|         2|   300|\n",
      "|  Lee|NULL|      NULL|   400|\n",
      "| NULL|  34|        10|   500|\n",
      "| NULL|  36|      NULL|  NULL|\n",
      "+-----+----+----------+------+\n",
      "\n"
     ]
    }
   ],
   "source": [
    "df_pyspark.show()"
   ]
  },
  {
   "cell_type": "code",
   "execution_count": 33,
   "id": "d067fc73",
   "metadata": {},
   "outputs": [
    {
     "name": "stdout",
     "output_type": "stream",
     "text": [
      "+----+----------+------+\n",
      "| Age|Experience|Salary|\n",
      "+----+----------+------+\n",
      "|  23|         1|   900|\n",
      "|   1|         3|   400|\n",
      "|  22|         4|   200|\n",
      "|  43|         3|   600|\n",
      "|  11|         1|   100|\n",
      "|  23|         2|   300|\n",
      "|NULL|      NULL|   400|\n",
      "|  34|        10|   500|\n",
      "|  36|      NULL|  NULL|\n",
      "+----+----------+------+\n",
      "\n"
     ]
    }
   ],
   "source": [
    "df_pyspark.drop('Name').show()"
   ]
  },
  {
   "cell_type": "code",
   "execution_count": 34,
   "id": "c38a3247",
   "metadata": {},
   "outputs": [
    {
     "name": "stdout",
     "output_type": "stream",
     "text": [
      "+-----+----+----------+------+\n",
      "| Name| Age|Experience|Salary|\n",
      "+-----+----+----------+------+\n",
      "|Frank|  23|         1|   900|\n",
      "| Kyle|   1|         3|   400|\n",
      "| Jeff|  22|         4|   200|\n",
      "| Fred|  43|         3|   600|\n",
      "|Karry|  11|         1|   100|\n",
      "|  Min|  23|         2|   300|\n",
      "|  Lee|NULL|      NULL|   400|\n",
      "| NULL|  34|        10|   500|\n",
      "| NULL|  36|      NULL|  NULL|\n",
      "+-----+----+----------+------+\n",
      "\n"
     ]
    }
   ],
   "source": [
    "df_pyspark.show()"
   ]
  },
  {
   "cell_type": "code",
   "execution_count": 35,
   "id": "e330ce5c",
   "metadata": {},
   "outputs": [
    {
     "name": "stdout",
     "output_type": "stream",
     "text": [
      "+-----+---+----------+------+\n",
      "| Name|Age|Experience|Salary|\n",
      "+-----+---+----------+------+\n",
      "|Frank| 23|         1|   900|\n",
      "| Kyle|  1|         3|   400|\n",
      "| Jeff| 22|         4|   200|\n",
      "| Fred| 43|         3|   600|\n",
      "|Karry| 11|         1|   100|\n",
      "|  Min| 23|         2|   300|\n",
      "+-----+---+----------+------+\n",
      "\n"
     ]
    }
   ],
   "source": [
    "df_pyspark.na.drop().show()"
   ]
  },
  {
   "cell_type": "code",
   "execution_count": 36,
   "id": "ad963d9e",
   "metadata": {},
   "outputs": [
    {
     "name": "stdout",
     "output_type": "stream",
     "text": [
      "+-----+---+----------+------+\n",
      "| Name|Age|Experience|Salary|\n",
      "+-----+---+----------+------+\n",
      "|Frank| 23|         1|   900|\n",
      "| Kyle|  1|         3|   400|\n",
      "| Jeff| 22|         4|   200|\n",
      "| Fred| 43|         3|   600|\n",
      "|Karry| 11|         1|   100|\n",
      "|  Min| 23|         2|   300|\n",
      "+-----+---+----------+------+\n",
      "\n"
     ]
    }
   ],
   "source": [
    "### any==how\n",
    "df_pyspark.na.drop(how=\"any\").show()"
   ]
  },
  {
   "cell_type": "code",
   "execution_count": 37,
   "id": "96356307",
   "metadata": {},
   "outputs": [
    {
     "name": "stdout",
     "output_type": "stream",
     "text": [
      "+-----+----+----------+------+\n",
      "| Name| Age|Experience|Salary|\n",
      "+-----+----+----------+------+\n",
      "|Frank|  23|         1|   900|\n",
      "| Kyle|   1|         3|   400|\n",
      "| Jeff|  22|         4|   200|\n",
      "| Fred|  43|         3|   600|\n",
      "|Karry|  11|         1|   100|\n",
      "|  Min|  23|         2|   300|\n",
      "|  Lee|NULL|      NULL|   400|\n",
      "| NULL|  34|        10|   500|\n",
      "+-----+----+----------+------+\n",
      "\n"
     ]
    }
   ],
   "source": [
    "## threshold\n",
    "df_pyspark.na.drop(how=\"any\",thresh=2).show()"
   ]
  },
  {
   "cell_type": "code",
   "execution_count": 38,
   "id": "3237ffbc",
   "metadata": {},
   "outputs": [
    {
     "name": "stdout",
     "output_type": "stream",
     "text": [
      "+-----+---+----------+------+\n",
      "| Name|Age|Experience|Salary|\n",
      "+-----+---+----------+------+\n",
      "|Frank| 23|         1|   900|\n",
      "| Kyle|  1|         3|   400|\n",
      "| Jeff| 22|         4|   200|\n",
      "| Fred| 43|         3|   600|\n",
      "|Karry| 11|         1|   100|\n",
      "|  Min| 23|         2|   300|\n",
      "| NULL| 34|        10|   500|\n",
      "+-----+---+----------+------+\n",
      "\n"
     ]
    }
   ],
   "source": [
    "##subset\n",
    "df_pyspark.na.drop(how=\"any\",subset=['Experience']).show()"
   ]
  },
  {
   "cell_type": "code",
   "execution_count": 39,
   "id": "52ccf332",
   "metadata": {},
   "outputs": [
    {
     "name": "stdout",
     "output_type": "stream",
     "text": [
      "+-----+----+----------+------+\n",
      "| Name| Age|Experience|Salary|\n",
      "+-----+----+----------+------+\n",
      "|Frank|  23|         1|   900|\n",
      "| Kyle|   1|         3|   400|\n",
      "| Jeff|  22|         4|   200|\n",
      "| Fred|  43|         3|   600|\n",
      "|Karry|  11|         1|   100|\n",
      "|  Min|  23|         2|   300|\n",
      "|  Lee|NULL|      NULL|   400|\n",
      "| NULL|  34|        10|   500|\n",
      "| NULL|  36|      NULL|  NULL|\n",
      "+-----+----+----------+------+\n",
      "\n"
     ]
    }
   ],
   "source": [
    "### filling the missing value\n",
    "df_pyspark.na.fill('Missing Values',['Experience','age']).show()"
   ]
  },
  {
   "cell_type": "code",
   "execution_count": 40,
   "id": "912888e1",
   "metadata": {},
   "outputs": [
    {
     "name": "stdout",
     "output_type": "stream",
     "text": [
      "+-----+----+----------+------+\n",
      "| Name| Age|Experience|Salary|\n",
      "+-----+----+----------+------+\n",
      "|Frank|  23|         1|   900|\n",
      "| Kyle|   1|         3|   400|\n",
      "| Jeff|  22|         4|   200|\n",
      "| Fred|  43|         3|   600|\n",
      "|Karry|  11|         1|   100|\n",
      "|  Min|  23|         2|   300|\n",
      "|  Lee|NULL|      NULL|   400|\n",
      "| NULL|  34|        10|   500|\n",
      "| NULL|  36|      NULL|  NULL|\n",
      "+-----+----+----------+------+\n",
      "\n"
     ]
    }
   ],
   "source": [
    "df_pyspark.show()"
   ]
  },
  {
   "cell_type": "code",
   "execution_count": 41,
   "id": "68e8fcef",
   "metadata": {},
   "outputs": [],
   "source": [
    "from pyspark.ml.feature import Imputer\n",
    "\n",
    "imputer =Imputer(\n",
    "    inputCols=['Age','Experience','Salary'],\n",
    "    outputCols=[\"{}_imputed\".format(c) for c in ['Age','Experience','Salary']]\n",
    ").setStrategy(\"mean\")"
   ]
  },
  {
   "cell_type": "code",
   "execution_count": 42,
   "id": "82936cc5",
   "metadata": {},
   "outputs": [
    {
     "name": "stdout",
     "output_type": "stream",
     "text": [
      "+-----+----+----------+------+-----------+------------------+--------------+\n",
      "| Name| Age|Experience|Salary|Age_imputed|Experience_imputed|Salary_imputed|\n",
      "+-----+----+----------+------+-----------+------------------+--------------+\n",
      "|Frank|  23|         1|   900|         23|                 1|           900|\n",
      "| Kyle|   1|         3|   400|          1|                 3|           400|\n",
      "| Jeff|  22|         4|   200|         22|                 4|           200|\n",
      "| Fred|  43|         3|   600|         43|                 3|           600|\n",
      "|Karry|  11|         1|   100|         11|                 1|           100|\n",
      "|  Min|  23|         2|   300|         23|                 2|           300|\n",
      "|  Lee|NULL|      NULL|   400|         24|                 3|           400|\n",
      "| NULL|  34|        10|   500|         34|                10|           500|\n",
      "| NULL|  36|      NULL|  NULL|         36|                 3|           425|\n",
      "+-----+----+----------+------+-----------+------------------+--------------+\n",
      "\n"
     ]
    }
   ],
   "source": [
    "##add impuation cols to df\n",
    "imputer.fit(df_pyspark).transform(df_pyspark).show()"
   ]
  },
  {
   "cell_type": "code",
   "execution_count": null,
   "id": "ed592d9c",
   "metadata": {},
   "outputs": [],
   "source": []
  },
  {
   "cell_type": "code",
   "execution_count": null,
   "id": "30a460a1",
   "metadata": {},
   "outputs": [],
   "source": []
  }
 ],
 "metadata": {
  "kernelspec": {
   "display_name": "Python 3 (ipykernel)",
   "language": "python",
   "name": "python3"
  },
  "language_info": {
   "codemirror_mode": {
    "name": "ipython",
    "version": 3
   },
   "file_extension": ".py",
   "mimetype": "text/x-python",
   "name": "python",
   "nbconvert_exporter": "python",
   "pygments_lexer": "ipython3",
   "version": "3.9.12"
  }
 },
 "nbformat": 4,
 "nbformat_minor": 5
}
